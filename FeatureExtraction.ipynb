{
 "cells": [
  {
   "cell_type": "markdown",
   "id": "73d0fbbc",
   "metadata": {},
   "source": [
    "#### Load the Data"
   ]
  },
  {
   "cell_type": "code",
   "execution_count": 13,
   "id": "12012dab",
   "metadata": {},
   "outputs": [],
   "source": [
    "import numpy as np\n",
    "import pandas as pd"
   ]
  },
  {
   "cell_type": "code",
   "execution_count": 14,
   "id": "33c570cc",
   "metadata": {},
   "outputs": [],
   "source": [
    "df = pd.read_csv(r'anime.csv')"
   ]
  },
  {
   "cell_type": "code",
   "execution_count": 15,
   "id": "d4f9c541",
   "metadata": {},
   "outputs": [
    {
     "data": {
      "text/html": [
       "<div>\n",
       "<style scoped>\n",
       "    .dataframe tbody tr th:only-of-type {\n",
       "        vertical-align: middle;\n",
       "    }\n",
       "\n",
       "    .dataframe tbody tr th {\n",
       "        vertical-align: top;\n",
       "    }\n",
       "\n",
       "    .dataframe thead th {\n",
       "        text-align: right;\n",
       "    }\n",
       "</style>\n",
       "<table border=\"1\" class=\"dataframe\">\n",
       "  <thead>\n",
       "    <tr style=\"text-align: right;\">\n",
       "      <th></th>\n",
       "      <th>Rank</th>\n",
       "      <th>Title</th>\n",
       "      <th>Score</th>\n",
       "    </tr>\n",
       "  </thead>\n",
       "  <tbody>\n",
       "    <tr>\n",
       "      <th>0</th>\n",
       "      <td>1</td>\n",
       "      <td>Fullmetal Alchemist: BrotherhoodTV (64 eps)Apr...</td>\n",
       "      <td>9.10</td>\n",
       "    </tr>\n",
       "    <tr>\n",
       "      <th>1</th>\n",
       "      <td>2</td>\n",
       "      <td>Steins;GateTV (24 eps)Apr 2011 - Sep 20112,473...</td>\n",
       "      <td>9.07</td>\n",
       "    </tr>\n",
       "    <tr>\n",
       "      <th>2</th>\n",
       "      <td>3</td>\n",
       "      <td>Bleach: Sennen Kessen-henTV (13 eps)Oct 2022 -...</td>\n",
       "      <td>9.06</td>\n",
       "    </tr>\n",
       "    <tr>\n",
       "      <th>3</th>\n",
       "      <td>4</td>\n",
       "      <td>Gintama°TV (51 eps)Apr 2015 - Mar 2016605,113 ...</td>\n",
       "      <td>9.06</td>\n",
       "    </tr>\n",
       "    <tr>\n",
       "      <th>4</th>\n",
       "      <td>5</td>\n",
       "      <td>Shingeki no Kyojin Season 3 Part 2TV (10 eps)A...</td>\n",
       "      <td>9.05</td>\n",
       "    </tr>\n",
       "  </tbody>\n",
       "</table>\n",
       "</div>"
      ],
      "text/plain": [
       "   Rank                                              Title  Score\n",
       "0     1  Fullmetal Alchemist: BrotherhoodTV (64 eps)Apr...   9.10\n",
       "1     2  Steins;GateTV (24 eps)Apr 2011 - Sep 20112,473...   9.07\n",
       "2     3  Bleach: Sennen Kessen-henTV (13 eps)Oct 2022 -...   9.06\n",
       "3     4  Gintama°TV (51 eps)Apr 2015 - Mar 2016605,113 ...   9.06\n",
       "4     5  Shingeki no Kyojin Season 3 Part 2TV (10 eps)A...   9.05"
      ]
     },
     "execution_count": 15,
     "metadata": {},
     "output_type": "execute_result"
    }
   ],
   "source": [
    "df.head()"
   ]
  },
  {
   "cell_type": "markdown",
   "id": "8a93f55c",
   "metadata": {},
   "source": [
    "#### Make a new column for episodes count"
   ]
  },
  {
   "cell_type": "code",
   "execution_count": 16,
   "id": "495200dc",
   "metadata": {},
   "outputs": [],
   "source": [
    "def extract_episodes(txt):\n",
    "      check = False\n",
    "      data = \"\"\n",
    "      for i in txt:\n",
    "            if i == \")\":\n",
    "                  check = False\n",
    "                  return data\n",
    "            if check == True:\n",
    "                  data += i\n",
    "            if i == '(':\n",
    "                  check = True"
   ]
  },
  {
   "cell_type": "code",
   "execution_count": 17,
   "id": "f1da7a29",
   "metadata": {},
   "outputs": [],
   "source": [
    "df['Episodes'] = df['Title'].apply(extract_episodes)"
   ]
  },
  {
   "cell_type": "code",
   "execution_count": 18,
   "id": "ad2866ce",
   "metadata": {},
   "outputs": [],
   "source": [
    "# rermove the eps from the Episodes \n",
    "df['Episodes'] = df['Episodes'].str.replace('eps', '')"
   ]
  },
  {
   "cell_type": "code",
   "execution_count": 19,
   "id": "2324e51b",
   "metadata": {},
   "outputs": [],
   "source": [
    "# Change the datatype of the Episodes column\n",
    "df['Episodes'] = df['Episodes'].astype(int)"
   ]
  },
  {
   "cell_type": "code",
   "execution_count": 20,
   "id": "491dbabb",
   "metadata": {},
   "outputs": [
    {
     "data": {
      "text/plain": [
       "numpy.int32"
      ]
     },
     "execution_count": 20,
     "metadata": {},
     "output_type": "execute_result"
    }
   ],
   "source": [
    "type(df.loc[0]['Episodes'])"
   ]
  },
  {
   "cell_type": "code",
   "execution_count": 30,
   "id": "c0bc1474",
   "metadata": {},
   "outputs": [
    {
     "data": {
      "text/html": [
       "<div>\n",
       "<style scoped>\n",
       "    .dataframe tbody tr th:only-of-type {\n",
       "        vertical-align: middle;\n",
       "    }\n",
       "\n",
       "    .dataframe tbody tr th {\n",
       "        vertical-align: top;\n",
       "    }\n",
       "\n",
       "    .dataframe thead th {\n",
       "        text-align: right;\n",
       "    }\n",
       "</style>\n",
       "<table border=\"1\" class=\"dataframe\">\n",
       "  <thead>\n",
       "    <tr style=\"text-align: right;\">\n",
       "      <th></th>\n",
       "      <th>Rank</th>\n",
       "      <th>Title</th>\n",
       "      <th>Score</th>\n",
       "      <th>Episodes</th>\n",
       "      <th>Time</th>\n",
       "      <th>Months</th>\n",
       "    </tr>\n",
       "  </thead>\n",
       "  <tbody>\n",
       "    <tr>\n",
       "      <th>0</th>\n",
       "      <td>1</td>\n",
       "      <td>Fullmetal Alchemist: BrotherhoodTV (64 eps)Apr...</td>\n",
       "      <td>9.10</td>\n",
       "      <td>64</td>\n",
       "      <td>Apr 2009 - Jul 2010</td>\n",
       "      <td>16</td>\n",
       "    </tr>\n",
       "    <tr>\n",
       "      <th>1</th>\n",
       "      <td>2</td>\n",
       "      <td>Steins;GateTV (24 eps)Apr 2011 - Sep 20112,473...</td>\n",
       "      <td>9.07</td>\n",
       "      <td>24</td>\n",
       "      <td>Apr 2011 - Sep 2011</td>\n",
       "      <td>6</td>\n",
       "    </tr>\n",
       "    <tr>\n",
       "      <th>2</th>\n",
       "      <td>3</td>\n",
       "      <td>Bleach: Sennen Kessen-henTV (13 eps)Oct 2022 -...</td>\n",
       "      <td>9.06</td>\n",
       "      <td>13</td>\n",
       "      <td>Oct 2022 - Dec 2022</td>\n",
       "      <td>3</td>\n",
       "    </tr>\n",
       "    <tr>\n",
       "      <th>3</th>\n",
       "      <td>4</td>\n",
       "      <td>Gintama°TV (51 eps)Apr 2015 - Mar 2016605,113 ...</td>\n",
       "      <td>9.06</td>\n",
       "      <td>51</td>\n",
       "      <td>Apr 2015 - Mar 2016</td>\n",
       "      <td>12</td>\n",
       "    </tr>\n",
       "    <tr>\n",
       "      <th>4</th>\n",
       "      <td>5</td>\n",
       "      <td>Shingeki no Kyojin Season 3 Part 2TV (10 eps)A...</td>\n",
       "      <td>9.05</td>\n",
       "      <td>10</td>\n",
       "      <td>Apr 2019 - Jul 2019</td>\n",
       "      <td>4</td>\n",
       "    </tr>\n",
       "  </tbody>\n",
       "</table>\n",
       "</div>"
      ],
      "text/plain": [
       "   Rank                                              Title  Score  Episodes  \\\n",
       "0     1  Fullmetal Alchemist: BrotherhoodTV (64 eps)Apr...   9.10        64   \n",
       "1     2  Steins;GateTV (24 eps)Apr 2011 - Sep 20112,473...   9.07        24   \n",
       "2     3  Bleach: Sennen Kessen-henTV (13 eps)Oct 2022 -...   9.06        13   \n",
       "3     4  Gintama°TV (51 eps)Apr 2015 - Mar 2016605,113 ...   9.06        51   \n",
       "4     5  Shingeki no Kyojin Season 3 Part 2TV (10 eps)A...   9.05        10   \n",
       "\n",
       "                  Time  Months  \n",
       "0  Apr 2009 - Jul 2010      16  \n",
       "1  Apr 2011 - Sep 2011       6  \n",
       "2  Oct 2022 - Dec 2022       3  \n",
       "3  Apr 2015 - Mar 2016      12  \n",
       "4  Apr 2019 - Jul 2019       4  "
      ]
     },
     "execution_count": 30,
     "metadata": {},
     "output_type": "execute_result"
    }
   ],
   "source": [
    "df.head()"
   ]
  },
  {
   "cell_type": "markdown",
   "id": "95d80184",
   "metadata": {},
   "source": [
    "#### Make a new column for time stamp"
   ]
  },
  {
   "cell_type": "code",
   "execution_count": 22,
   "id": "08d58334",
   "metadata": {},
   "outputs": [
    {
     "data": {
      "text/plain": [
       "'Fullmetal Alchemist: BrotherhoodTV (64 eps)Apr 2009 - Jul 20103,218,472 membersManga StoreVolume 1€4.58Preview'"
      ]
     },
     "execution_count": 22,
     "metadata": {},
     "output_type": "execute_result"
    }
   ],
   "source": [
    "df.loc[0]['Title']"
   ]
  },
  {
   "cell_type": "code",
   "execution_count": 23,
   "id": "94240932",
   "metadata": {},
   "outputs": [],
   "source": [
    "def extraction_time(txt):\n",
    "      check = True\n",
    "      data = \"\"\n",
    "      for i in range(len(txt)):\n",
    "            if txt[i] == \")\":\n",
    "                  for j in range(i+1, i+20):\n",
    "                        data += txt[j]\n",
    "                  return data"
   ]
  },
  {
   "cell_type": "code",
   "execution_count": 24,
   "id": "26dd0fae",
   "metadata": {},
   "outputs": [
    {
     "data": {
      "text/html": [
       "<div>\n",
       "<style scoped>\n",
       "    .dataframe tbody tr th:only-of-type {\n",
       "        vertical-align: middle;\n",
       "    }\n",
       "\n",
       "    .dataframe tbody tr th {\n",
       "        vertical-align: top;\n",
       "    }\n",
       "\n",
       "    .dataframe thead th {\n",
       "        text-align: right;\n",
       "    }\n",
       "</style>\n",
       "<table border=\"1\" class=\"dataframe\">\n",
       "  <thead>\n",
       "    <tr style=\"text-align: right;\">\n",
       "      <th></th>\n",
       "      <th>Rank</th>\n",
       "      <th>Title</th>\n",
       "      <th>Score</th>\n",
       "      <th>Episodes</th>\n",
       "    </tr>\n",
       "  </thead>\n",
       "  <tbody>\n",
       "    <tr>\n",
       "      <th>0</th>\n",
       "      <td>1</td>\n",
       "      <td>Fullmetal Alchemist: BrotherhoodTV (64 eps)Apr...</td>\n",
       "      <td>9.10</td>\n",
       "      <td>64</td>\n",
       "    </tr>\n",
       "    <tr>\n",
       "      <th>1</th>\n",
       "      <td>2</td>\n",
       "      <td>Steins;GateTV (24 eps)Apr 2011 - Sep 20112,473...</td>\n",
       "      <td>9.07</td>\n",
       "      <td>24</td>\n",
       "    </tr>\n",
       "    <tr>\n",
       "      <th>2</th>\n",
       "      <td>3</td>\n",
       "      <td>Bleach: Sennen Kessen-henTV (13 eps)Oct 2022 -...</td>\n",
       "      <td>9.06</td>\n",
       "      <td>13</td>\n",
       "    </tr>\n",
       "    <tr>\n",
       "      <th>3</th>\n",
       "      <td>4</td>\n",
       "      <td>Gintama°TV (51 eps)Apr 2015 - Mar 2016605,113 ...</td>\n",
       "      <td>9.06</td>\n",
       "      <td>51</td>\n",
       "    </tr>\n",
       "    <tr>\n",
       "      <th>4</th>\n",
       "      <td>5</td>\n",
       "      <td>Shingeki no Kyojin Season 3 Part 2TV (10 eps)A...</td>\n",
       "      <td>9.05</td>\n",
       "      <td>10</td>\n",
       "    </tr>\n",
       "  </tbody>\n",
       "</table>\n",
       "</div>"
      ],
      "text/plain": [
       "   Rank                                              Title  Score  Episodes\n",
       "0     1  Fullmetal Alchemist: BrotherhoodTV (64 eps)Apr...   9.10        64\n",
       "1     2  Steins;GateTV (24 eps)Apr 2011 - Sep 20112,473...   9.07        24\n",
       "2     3  Bleach: Sennen Kessen-henTV (13 eps)Oct 2022 -...   9.06        13\n",
       "3     4  Gintama°TV (51 eps)Apr 2015 - Mar 2016605,113 ...   9.06        51\n",
       "4     5  Shingeki no Kyojin Season 3 Part 2TV (10 eps)A...   9.05        10"
      ]
     },
     "execution_count": 24,
     "metadata": {},
     "output_type": "execute_result"
    }
   ],
   "source": [
    "df['Title'].apply(extraction_time)\n",
    "df.head()"
   ]
  },
  {
   "cell_type": "code",
   "execution_count": 31,
   "id": "22b1dc3f",
   "metadata": {},
   "outputs": [],
   "source": [
    "df['Time'] = df['Title'].apply(extraction_time)"
   ]
  },
  {
   "cell_type": "code",
   "execution_count": 26,
   "id": "7772de6f",
   "metadata": {},
   "outputs": [
    {
     "data": {
      "text/html": [
       "<div>\n",
       "<style scoped>\n",
       "    .dataframe tbody tr th:only-of-type {\n",
       "        vertical-align: middle;\n",
       "    }\n",
       "\n",
       "    .dataframe tbody tr th {\n",
       "        vertical-align: top;\n",
       "    }\n",
       "\n",
       "    .dataframe thead th {\n",
       "        text-align: right;\n",
       "    }\n",
       "</style>\n",
       "<table border=\"1\" class=\"dataframe\">\n",
       "  <thead>\n",
       "    <tr style=\"text-align: right;\">\n",
       "      <th></th>\n",
       "      <th>Rank</th>\n",
       "      <th>Title</th>\n",
       "      <th>Score</th>\n",
       "      <th>Episodes</th>\n",
       "      <th>Time</th>\n",
       "    </tr>\n",
       "  </thead>\n",
       "  <tbody>\n",
       "    <tr>\n",
       "      <th>0</th>\n",
       "      <td>1</td>\n",
       "      <td>Fullmetal Alchemist: BrotherhoodTV (64 eps)Apr...</td>\n",
       "      <td>9.10</td>\n",
       "      <td>64</td>\n",
       "      <td>Apr 2009 - Jul 2010</td>\n",
       "    </tr>\n",
       "    <tr>\n",
       "      <th>1</th>\n",
       "      <td>2</td>\n",
       "      <td>Steins;GateTV (24 eps)Apr 2011 - Sep 20112,473...</td>\n",
       "      <td>9.07</td>\n",
       "      <td>24</td>\n",
       "      <td>Apr 2011 - Sep 2011</td>\n",
       "    </tr>\n",
       "    <tr>\n",
       "      <th>2</th>\n",
       "      <td>3</td>\n",
       "      <td>Bleach: Sennen Kessen-henTV (13 eps)Oct 2022 -...</td>\n",
       "      <td>9.06</td>\n",
       "      <td>13</td>\n",
       "      <td>Oct 2022 - Dec 2022</td>\n",
       "    </tr>\n",
       "    <tr>\n",
       "      <th>3</th>\n",
       "      <td>4</td>\n",
       "      <td>Gintama°TV (51 eps)Apr 2015 - Mar 2016605,113 ...</td>\n",
       "      <td>9.06</td>\n",
       "      <td>51</td>\n",
       "      <td>Apr 2015 - Mar 2016</td>\n",
       "    </tr>\n",
       "    <tr>\n",
       "      <th>4</th>\n",
       "      <td>5</td>\n",
       "      <td>Shingeki no Kyojin Season 3 Part 2TV (10 eps)A...</td>\n",
       "      <td>9.05</td>\n",
       "      <td>10</td>\n",
       "      <td>Apr 2019 - Jul 2019</td>\n",
       "    </tr>\n",
       "  </tbody>\n",
       "</table>\n",
       "</div>"
      ],
      "text/plain": [
       "   Rank                                              Title  Score  Episodes  \\\n",
       "0     1  Fullmetal Alchemist: BrotherhoodTV (64 eps)Apr...   9.10        64   \n",
       "1     2  Steins;GateTV (24 eps)Apr 2011 - Sep 20112,473...   9.07        24   \n",
       "2     3  Bleach: Sennen Kessen-henTV (13 eps)Oct 2022 -...   9.06        13   \n",
       "3     4  Gintama°TV (51 eps)Apr 2015 - Mar 2016605,113 ...   9.06        51   \n",
       "4     5  Shingeki no Kyojin Season 3 Part 2TV (10 eps)A...   9.05        10   \n",
       "\n",
       "                  Time  \n",
       "0  Apr 2009 - Jul 2010  \n",
       "1  Apr 2011 - Sep 2011  \n",
       "2  Oct 2022 - Dec 2022  \n",
       "3  Apr 2015 - Mar 2016  \n",
       "4  Apr 2019 - Jul 2019  "
      ]
     },
     "execution_count": 26,
     "metadata": {},
     "output_type": "execute_result"
    }
   ],
   "source": [
    "df.head()"
   ]
  },
  {
   "cell_type": "code",
   "execution_count": 27,
   "id": "d544cda3",
   "metadata": {},
   "outputs": [],
   "source": [
    "from dateutil.relativedelta import relativedelta\n",
    "from datetime import datetime\n",
    "\n",
    "def calculate_total_months(period):\n",
    "    try:\n",
    "        start_str, end_str = period.split(' - ')\n",
    "        start_date = datetime.strptime(start_str, '%b %Y')\n",
    "        end_date = datetime.strptime(end_str, '%b %Y')\n",
    "        r = relativedelta(end_date, start_date)\n",
    "        return r.years * 12 + r.months + 1  # +1 to include the starting month\n",
    "    except:\n",
    "        return None\n",
    "\n",
    "df['Months'] = df['Time'].apply(calculate_total_months)"
   ]
  },
  {
   "cell_type": "code",
   "execution_count": 28,
   "id": "60ee1f0e",
   "metadata": {},
   "outputs": [
    {
     "data": {
      "text/html": [
       "<div>\n",
       "<style scoped>\n",
       "    .dataframe tbody tr th:only-of-type {\n",
       "        vertical-align: middle;\n",
       "    }\n",
       "\n",
       "    .dataframe tbody tr th {\n",
       "        vertical-align: top;\n",
       "    }\n",
       "\n",
       "    .dataframe thead th {\n",
       "        text-align: right;\n",
       "    }\n",
       "</style>\n",
       "<table border=\"1\" class=\"dataframe\">\n",
       "  <thead>\n",
       "    <tr style=\"text-align: right;\">\n",
       "      <th></th>\n",
       "      <th>Rank</th>\n",
       "      <th>Title</th>\n",
       "      <th>Score</th>\n",
       "      <th>Episodes</th>\n",
       "      <th>Time</th>\n",
       "      <th>Months</th>\n",
       "    </tr>\n",
       "  </thead>\n",
       "  <tbody>\n",
       "    <tr>\n",
       "      <th>0</th>\n",
       "      <td>1</td>\n",
       "      <td>Fullmetal Alchemist: BrotherhoodTV (64 eps)Apr...</td>\n",
       "      <td>9.10</td>\n",
       "      <td>64</td>\n",
       "      <td>Apr 2009 - Jul 2010</td>\n",
       "      <td>16</td>\n",
       "    </tr>\n",
       "    <tr>\n",
       "      <th>1</th>\n",
       "      <td>2</td>\n",
       "      <td>Steins;GateTV (24 eps)Apr 2011 - Sep 20112,473...</td>\n",
       "      <td>9.07</td>\n",
       "      <td>24</td>\n",
       "      <td>Apr 2011 - Sep 2011</td>\n",
       "      <td>6</td>\n",
       "    </tr>\n",
       "    <tr>\n",
       "      <th>2</th>\n",
       "      <td>3</td>\n",
       "      <td>Bleach: Sennen Kessen-henTV (13 eps)Oct 2022 -...</td>\n",
       "      <td>9.06</td>\n",
       "      <td>13</td>\n",
       "      <td>Oct 2022 - Dec 2022</td>\n",
       "      <td>3</td>\n",
       "    </tr>\n",
       "    <tr>\n",
       "      <th>3</th>\n",
       "      <td>4</td>\n",
       "      <td>Gintama°TV (51 eps)Apr 2015 - Mar 2016605,113 ...</td>\n",
       "      <td>9.06</td>\n",
       "      <td>51</td>\n",
       "      <td>Apr 2015 - Mar 2016</td>\n",
       "      <td>12</td>\n",
       "    </tr>\n",
       "    <tr>\n",
       "      <th>4</th>\n",
       "      <td>5</td>\n",
       "      <td>Shingeki no Kyojin Season 3 Part 2TV (10 eps)A...</td>\n",
       "      <td>9.05</td>\n",
       "      <td>10</td>\n",
       "      <td>Apr 2019 - Jul 2019</td>\n",
       "      <td>4</td>\n",
       "    </tr>\n",
       "  </tbody>\n",
       "</table>\n",
       "</div>"
      ],
      "text/plain": [
       "   Rank                                              Title  Score  Episodes  \\\n",
       "0     1  Fullmetal Alchemist: BrotherhoodTV (64 eps)Apr...   9.10        64   \n",
       "1     2  Steins;GateTV (24 eps)Apr 2011 - Sep 20112,473...   9.07        24   \n",
       "2     3  Bleach: Sennen Kessen-henTV (13 eps)Oct 2022 -...   9.06        13   \n",
       "3     4  Gintama°TV (51 eps)Apr 2015 - Mar 2016605,113 ...   9.06        51   \n",
       "4     5  Shingeki no Kyojin Season 3 Part 2TV (10 eps)A...   9.05        10   \n",
       "\n",
       "                  Time  Months  \n",
       "0  Apr 2009 - Jul 2010      16  \n",
       "1  Apr 2011 - Sep 2011       6  \n",
       "2  Oct 2022 - Dec 2022       3  \n",
       "3  Apr 2015 - Mar 2016      12  \n",
       "4  Apr 2019 - Jul 2019       4  "
      ]
     },
     "execution_count": 28,
     "metadata": {},
     "output_type": "execute_result"
    }
   ],
   "source": [
    "df.head()"
   ]
  },
  {
   "cell_type": "markdown",
   "id": "b03e8185",
   "metadata": {},
   "source": [
    "#### Which anime has the highest score"
   ]
  },
  {
   "cell_type": "code",
   "execution_count": 29,
   "id": "7c6e643b",
   "metadata": {},
   "outputs": [
    {
     "data": {
      "text/plain": [
       "9.1"
      ]
     },
     "execution_count": 29,
     "metadata": {},
     "output_type": "execute_result"
    }
   ],
   "source": [
    "df['Score'].max()"
   ]
  },
  {
   "cell_type": "markdown",
   "id": "d5491a79",
   "metadata": {},
   "source": [
    "#### Give anime has the highest score?"
   ]
  },
  {
   "cell_type": "markdown",
   "id": "605435e0",
   "metadata": {},
   "source": [
    "#### Which anime has the highest episodes count"
   ]
  },
  {
   "cell_type": "markdown",
   "id": "270df820",
   "metadata": {},
   "source": [
    "#### Animes with top 5 episodes count"
   ]
  },
  {
   "cell_type": "markdown",
   "id": "69ae6f04",
   "metadata": {},
   "source": [
    "#### Which is the largest running anime"
   ]
  }
 ],
 "metadata": {
  "kernelspec": {
   "display_name": "base",
   "language": "python",
   "name": "python3"
  },
  "language_info": {
   "codemirror_mode": {
    "name": "ipython",
    "version": 3
   },
   "file_extension": ".py",
   "mimetype": "text/x-python",
   "name": "python",
   "nbconvert_exporter": "python",
   "pygments_lexer": "ipython3",
   "version": "3.12.7"
  }
 },
 "nbformat": 4,
 "nbformat_minor": 5
}
